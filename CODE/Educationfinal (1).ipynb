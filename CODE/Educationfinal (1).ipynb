{
  "nbformat": 4,
  "nbformat_minor": 0,
  "metadata": {
    "colab": {
      "provenance": []
    },
    "kernelspec": {
      "name": "python3",
      "display_name": "Python 3"
    },
    "language_info": {
      "name": "python"
    }
  },
  "cells": [
    {
      "cell_type": "markdown",
      "source": [
        "#INTRODUCTION"
      ],
      "metadata": {
        "id": "p3_7ZgHUb20n"
      }
    },
    {
      "cell_type": "markdown",
      "source": [
        "####Understanding what drives student performance is one of the most important questions in educational data science. Standardized test outcomes, such as the average ACT score, are commonly used indicators of school performance and college readiness. However, these results are often influenced by broader socioeconomic conditions—including household income, unemployment, and educational attainment levels within communities.\n",
        "\n",
        "####This analysis aims to examine whether school performance, measured by average ACT score, can be predicted by socioeconomic factors. The study primarily uses data from EdGap.org (2016), which provides ACT and socioeconomic characteristics for U.S. school districts, and the Common Core of Data (CCD) from the National Center for Education Statistics, which supplies detailed school-level information. Additionally, a school characteristics dataset is integrated to include more granular predictors such as student–teacher ratio, charter status, and free/reduced lunch participation."
      ],
      "metadata": {
        "id": "UmZQ8B8Dbt9X"
      }
    },
    {
      "cell_type": "markdown",
      "source": [
        "#PROBLEM STATEMENT"
      ],
      "metadata": {
        "id": "wkk-3uZZb-U0"
      }
    },
    {
      "cell_type": "markdown",
      "source": [
        "##\"Can school performance, as measured by the average ACT score, be predicted by socioeconomic and school-level factors?\""
      ],
      "metadata": {
        "id": "WXShFgzOcHnC"
      }
    },
    {
      "cell_type": "markdown",
      "source": [
        "###To answer this, We will be working by analysing:\n",
        "\n",
        "relationships between average ACT scores and socioeconomic predictors such as household income, unemployment rate, percentage of adults with college education, and percentage of students eligible for free or reduced lunch.\n",
        "\n",
        "Incorporate additional school-level variables, including student–teacher ratio (a proxy for class size and instructional resources) and charter status (to explore institutional differences).\n",
        "\n",
        "Evaluate the predictive power of these variables through regression models and visualizations, identifying which factors most strongly relate to school performance."
      ],
      "metadata": {
        "id": "CFMNtc5_cQGF"
      }
    },
    {
      "cell_type": "markdown",
      "source": [
        "#####\"Do socioeconomic factors predict average ACT? Do results change after adding student–teacher ratio and charter from 'school search' dataset?\""
      ],
      "metadata": {
        "id": "tUCoiIQdb7t4"
      }
    },
    {
      "cell_type": "markdown",
      "source": [
        "##Imports & display options"
      ],
      "metadata": {
        "id": "yl3KAPM2_IEy"
      }
    },
    {
      "cell_type": "markdown",
      "source": [
        "Loads libraries for data analysis, visualization, modeling, and evaluation with settings to make outputs clear and readable."
      ],
      "metadata": {
        "id": "EC6PXjHr-lYy"
      }
    },
    {
      "cell_type": "markdown",
      "source": [
        "pandas, numpy → for data handling and numerical operations\n",
        "\n",
        "matplotlib.pyplot → for data visualization\n",
        "\n",
        "statsmodels.formula.api (smf) → for regression and statistical modeling using formula syntax (e.g., y ~ x1 + x2)\n",
        "\n",
        "sklearn.model_selection & sklearn.linear_model → for machine learning tasks such as cross-validation and linear regression\n",
        "\n",
        "ensures all columns in a DataFrame are shown when printed (no truncation).\n",
        "\n",
        "Converts text (usually column names) into a clean, code-friendly snake_case format:\n",
        "\n",
        "trims spaces\n",
        "\n",
        "converts to lowercase\n",
        "\n",
        "replaces %, #, /, and spaces with readable words/underscores\n",
        "\n",
        "Makes column names consistent and ready for analysis or merging."
      ],
      "metadata": {
        "id": "Ig3d5S9O-mkR"
      }
    },
    {
      "cell_type": "code",
      "execution_count": 13,
      "metadata": {
        "id": "TCG8uFXh9qEy"
      },
      "outputs": [],
      "source": [
        "import pandas as pd, numpy as np\n",
        "import matplotlib.pyplot as plt\n",
        "\n",
        "import statsmodels.formula.api as smf\n",
        "from sklearn.model_selection import KFold, cross_val_score\n",
        "from sklearn.linear_model import LinearRegression\n",
        "\n",
        "pd.set_option('display.max_columns', None)\n",
        "\n",
        "def to_snake(s):\n",
        "    return (str(s).strip().lower()\n",
        "            .replace('%','pct').replace('#','num')\n",
        "            .replace('/','_').replace(' ','_'))\n"
      ]
    },
    {
      "cell_type": "markdown",
      "source": [
        "##Load data (with explicit dtypes & safe reading)"
      ],
      "metadata": {
        "id": "SweY_aYt_Mqi"
      }
    },
    {
      "cell_type": "markdown",
      "source": [
        "Rename the columns, if necessary, to follow best practices of being lowercase, snake_case, and understandable"
      ],
      "metadata": {
        "id": "kJ-AyEreQKiH"
      }
    },
    {
      "cell_type": "code",
      "source": [
        "# paths\n",
        "p_edgap = \"https://raw.githubusercontent.com/Hemantkumaar/education/main/DATA/EdGap_data%20(2).xlsx\"\n",
        "p_ccd   = \"https://raw.githubusercontent.com/Hemantkumaar/education/main/DATA/ccd_sch_029_1617_w_1a_11212017%20(4).csv\"\n",
        "p_extra = \"https://raw.githubusercontent.com/Hemantkumaar/education/main/DATA/SchoolSearch2025_10_21_19.23.35.xlsx\"\n",
        "\n",
        "# read\n",
        "edgap = pd.read_excel(p_edgap, sheet_name=0)\n",
        "ccd   = pd.read_csv(p_ccd, low_memory=False, encoding='latin1')\n",
        "extra = pd.read_excel(p_extra, sheet_name=\"School results\")\n",
        "\n",
        "# standardize col names\n",
        "edgap.columns = [to_snake(c) for c in edgap.columns]\n",
        "ccd.columns   = [to_snake(c) for c in ccd.columns]\n",
        "extra.columns = [to_snake(c) for c in extra.columns]\n",
        "\n",
        "# quick check\n",
        "(edgap.head(3), ccd.head(3), extra.head(3))\n"
      ],
      "metadata": {
        "colab": {
          "base_uri": "https://localhost:8080/"
        },
        "id": "1ECSAIvV_ZwQ",
        "outputId": "2747c26c-5933-4106-d593-2dc93a3143c3"
      },
      "execution_count": 40,
      "outputs": [
        {
          "output_type": "execute_result",
          "data": {
            "text/plain": [
              "(   ncessch_school_id  ct_unemployment_rate  ct_pct_adults_with_college_degree  \\\n",
              " 0       100001600143              0.117962                           0.445283   \n",
              " 1       100008000024              0.063984                           0.662765   \n",
              " 2       100008000225              0.056460                           0.701864   \n",
              " \n",
              "    ct_pct_childre_in_married_couple_family  ct_median_household_income  \\\n",
              " 0                                 0.346495                     42820.0   \n",
              " 1                                 0.767619                     89320.0   \n",
              " 2                                 0.713090                     84140.0   \n",
              " \n",
              "    school_act_average_(or_equivalent_if_sat_score)  \\\n",
              " 0                                        20.433455   \n",
              " 1                                        19.498168   \n",
              " 2                                        19.554335   \n",
              " \n",
              "    school_pct_free_and_reduced_lunch  \n",
              " 0                           0.066901  \n",
              " 1                           0.112412  \n",
              " 2                           0.096816  ,\n",
              "   school_year statename  st                          sch_name  \\\n",
              " 0   2016-2017   ALABAMA  AL  Sequoyah Sch - Chalkville Campus   \n",
              " 1   2016-2017   ALABAMA  AL                             Camps   \n",
              " 2   2016-2017   ALABAMA  AL                           Det Ctr   \n",
              " \n",
              "                  lea_name st_leaid   leaid     st_schid       ncessch   schid  \\\n",
              " 0  Alabama Youth Services   AL-210  100002  AL-210-0020  1.000020e+10  100277   \n",
              " 1  Alabama Youth Services   AL-210  100002  AL-210-0050  1.000020e+10  101667   \n",
              " 2  Alabama Youth Services   AL-210  100002  AL-210-0060  1.000020e+10  101670   \n",
              " \n",
              "        mstreet1       mcity mstate   mzip                     lstreet1  \\\n",
              " 0  P O Box 9486  Birmingham     AL  35220  1000 Industrial School Road   \n",
              " 1    P O Box 66    Mt Meigs     AL  36057           1601 County Rd. 57   \n",
              " 2    P O Box 66    Mt Meigs     AL  36057       2109 Bashi Rd Bldg 509   \n",
              " \n",
              "          lcity lstate   lzip updated_status_text effective_date  \\\n",
              " 0   Birmingham     AL  35220                Open         3/3/10   \n",
              " 1   Prattville     AL  36067                Open         3/3/10   \n",
              " 2  Thomasville     AL  36784                Open         3/3/10   \n",
              " \n",
              "         sch_type_text  sch_type level  \n",
              " 0  Alternative School         4  High  \n",
              " 1  Alternative School         4  High  \n",
              " 2  Alternative School         4  High  ,\n",
              "    nces_school_id      state_school_id  nces_district_id state_district_id  \\\n",
              " 0    273239005352  MN-010196-010196067           2732390         MN-010196   \n",
              " 1    271503005356  MN-010199-010199090           2715030         MN-010199   \n",
              " 2    180004602162         IN-9545-4164           1800046           IN-9545   \n",
              " \n",
              "   low_grade  high_grade                       school_name  \\\n",
              " 0        09          12             196Online High School   \n",
              " 1        09          12            199 Online High School   \n",
              " 2        KG          12  21st Century Charter Sch of Gary   \n",
              " \n",
              "                            district    county_name     street_address  \\\n",
              " 0      ROSEMOUNT-APPLE VALLEY-EAGAN  Dakota County    3455 153RD ST W   \n",
              " 1       INVER GROVE HEIGHTS SCHOOLS  Dakota County     2920 80TH ST E   \n",
              " 2  21st Century Charter Sch of Gary    Lake County  556 Washington St   \n",
              " \n",
              "                   city state    zip zip_4-digit          phone  locale_code  \\\n",
              " 0            ROSEMOUNT    MN  55068        8888  (651)423-7915           13   \n",
              " 1  INVER GROVE HEIGHTS    MN  55076        8888  (651)306-7009           21   \n",
              " 2                 Gary    IN  46402              (219)886-9339           13   \n",
              " \n",
              "              locale charter  students  teachers  student_teacher_ratio  \\\n",
              " 0    13-City: Small    2-No     108.0      6.74                  16.02   \n",
              " 1  21-Suburb: Large    2-No      24.0      0.00                    NaN   \n",
              " 2    13-City: Small   1-Yes    1337.0    115.00                  11.63   \n",
              " \n",
              "    free_lunch  reduced_lunch  \n",
              " 0          33              7  \n",
              " 1          13              3  \n",
              " 2        1041             20  )"
            ]
          },
          "metadata": {},
          "execution_count": 40
        }
      ]
    },
    {
      "cell_type": "code",
      "source": [
        "import warnings\n",
        "warnings.simplefilter(\"ignore\", UserWarning)\n"
      ],
      "metadata": {
        "id": "5bM8jl8TCV9X"
      },
      "execution_count": 16,
      "outputs": []
    },
    {
      "cell_type": "code",
      "source": [
        "edgap = pd.read_excel(edgap_path, engine=\"openpyxl\")\n"
      ],
      "metadata": {
        "id": "_FP2EGoGCX29"
      },
      "execution_count": 17,
      "outputs": []
    },
    {
      "cell_type": "markdown",
      "source": [
        "##Select and standardize necessary columns"
      ],
      "metadata": {
        "id": "50PNV536Cv9t"
      }
    },
    {
      "cell_type": "code",
      "source": [
        "# likely EdGap columns\n",
        "edgap_keep = [\n",
        "    'ncessch','average_act',\n",
        "    'ct_median_household_income','rate_unemployment',\n",
        "    'percent_college','percent_lunch'\n",
        "]\n",
        "edgap = edgap[[c for c in edgap_keep if c in edgap.columns]].copy()\n",
        "edgap = edgap.rename(columns={\n",
        "    'ct_median_household_income':'income',\n",
        "    'rate_unemployment':'unemp_rate',\n",
        "    'percent_college':'pct_college',\n",
        "    'percent_lunch':'pct_lunch'\n",
        "})\n",
        "\n",
        "# CCD essentials (for backup matching / cross-check)\n",
        "ccd_keep = ['ncessch','member','tot_teach','loctext','charter']\n",
        "ccd = ccd[[c for c in ccd_keep if c in ccd.columns]].copy()\n",
        "\n",
        "# EXTRA FILE — already has school-level goodies\n",
        "extra_keep = [\n",
        "    'nces_school_id','nces_district_id','school_name','district','county_name',\n",
        "    'city','state','locale_code','locale','charter','students','teachers',\n",
        "    'student_teacher_ratio','free_lunch','reduced_lunch'\n",
        "]\n",
        "extra = extra[[c for c in extra_keep if c in extra.columns]].copy()\n"
      ],
      "metadata": {
        "id": "szXuSZGaCxjs"
      },
      "execution_count": 41,
      "outputs": []
    },
    {
      "cell_type": "markdown",
      "source": [
        "we are cleaning and standardizing all three datasets by keeping only the necessary columns and renaming them for clarity, so they’re ready for merging and analysis."
      ],
      "metadata": {
        "id": "SyKXurexHXF5"
      }
    },
    {
      "cell_type": "markdown",
      "source": [
        "##Keys, types & sanity filters"
      ],
      "metadata": {
        "id": "wAPyD4iTHKYU"
      }
    },
    {
      "cell_type": "code",
      "source": [
        "# keys as strings\n",
        "for df, key in [(edgap,'ncessch'), (ccd,'ncessch')]:\n",
        "    if key in df:\n",
        "        df[key] = df[key].astype(str).str.strip()\n",
        "\n",
        "if 'nces_school_id' in extra:\n",
        "    extra['ncessch'] = extra['nces_school_id'].astype(str).str.strip()\n",
        "\n",
        "# numeric coercion for modeling vars\n",
        "num_cols_edgap = [c for c in edgap.columns if c not in ['ncessch']]\n",
        "edgap[num_cols_edgap] = edgap[num_cols_edgap].apply(pd.to_numeric, errors='coerce')\n",
        "\n",
        "for c in ['students','teachers','student_teacher_ratio','free_lunch','reduced_lunch']:\n",
        "    if c in extra:\n",
        "        extra[c] = pd.to_numeric(extra[c], errors='coerce')\n",
        "\n",
        "# reasonable ranges\n",
        "if 'average_act' in edgap:\n",
        "    edgap.loc[~edgap['average_act'].between(1,36) & edgap['average_act'].notna(), 'average_act'] = np.nan\n",
        "\n",
        "for c in ['pct_college','pct_lunch']:\n",
        "    if c in edgap:\n",
        "        edgap.loc[~edgap[c].between(0,100) & edgap[c].notna(), c] = np.nan\n"
      ],
      "metadata": {
        "id": "mg_u3at_HLmq"
      },
      "execution_count": 42,
      "outputs": []
    },
    {
      "cell_type": "markdown",
      "source": [
        "You standardized school IDs as clean strings, converted numeric columns safely, and filtered out invalid data ranges — all to make your datasets clean, consistent, and ready for merging or modeling."
      ],
      "metadata": {
        "id": "XUottP7-HjkZ"
      }
    },
    {
      "cell_type": "code",
      "source": [
        "import numpy as np\n",
        "import pandas as pd\n",
        "\n",
        "### 0) helpers\n",
        "def pct_between_0_100(s):\n",
        "    return s.isna() | s.between(0, 100)\n",
        "\n",
        "def log_changes(before, after, label):\n",
        "    dropped = before - after\n",
        "    print(f\"{label}: removed {dropped:,} rows\")\n",
        "\n",
        "\n",
        "edgap_before = len(edgap)\n",
        "edgap = edgap.dropna(subset=['ncessch']).drop_duplicates(subset=['ncessch'])\n",
        "log_changes(edgap_before, len(edgap), \"EdGap duplicates/NA keys\")\n",
        "\n",
        "extra_before = len(extra)\n",
        "extra = extra.dropna(subset=['ncessch']).drop_duplicates(subset=['ncessch'])\n",
        "log_changes(extra_before, len(extra), \"Extra duplicates/NA keys\")\n",
        "\n",
        "if 'average_act' in edgap:\n",
        "    bad = edgap['average_act'].notna() & ~edgap['average_act'].between(1, 36)\n",
        "    print(\"EdGap: rows with invalid ACT set to NaN:\", int(bad.sum()))\n",
        "    edgap.loc[bad, 'average_act'] = np.nan\n",
        "\n",
        "# Percent variables in EdGap should be 0..100\n",
        "for c in ['pct_college', 'pct_lunch', 'unemp_rate']:\n",
        "    if c in edgap:\n",
        "        bad = edgap[c].notna() & ~edgap[c].between(0, 100)\n",
        "        print(f\"EdGap: rows with invalid {c} set to NaN:\", int(bad.sum()))\n",
        "        edgap.loc[bad, c] = np.nan\n",
        "\n",
        "# Income should be positive (set invalid to NaN for later impute/drop)\n",
        "if 'income' in edgap:\n",
        "    bad = edgap['income'].notna() & (edgap['income'] <= 0)\n",
        "    print(\"EdGap: rows with nonpositive income set to NaN:\", int(bad.sum()))\n",
        "    edgap.loc[bad, 'income'] = np.nan\n",
        "\n",
        "# --- school_search data set ---\n",
        "# Students/teachers must be nonnegative; teachers > 0 if ratio used\n",
        "for c in ['students', 'teachers', 'free_lunch', 'reduced_lunch']:\n",
        "    if c in extra:\n",
        "        bad = extra[c].notna() & (extra[c] < 0)\n",
        "        print(f\"Extra: rows with negative {c} set to NaN:\", int(bad.sum()))\n",
        "        extra.loc[bad, c] = np.nan\n",
        "\n",
        "# Free + reduced lunch cannot exceed students\n",
        "if set(['free_lunch','reduced_lunch','students']).issubset(extra.columns):\n",
        "    too_many = (extra['free_lunch'].fillna(0) + extra['reduced_lunch'].fillna(0)) > extra['students'].fillna(np.inf)\n",
        "    print(\"Extra: rows with (free+reduced) > students set lunch counts to NaN:\", int(too_many.sum()))\n",
        "    extra.loc[too_many, ['free_lunch','reduced_lunch']] = np.nan\n",
        "\n",
        "# Recompute/validate student_teacher_ratio if needed\n",
        "if set(['students','teachers']).issubset(extra.columns):\n",
        "    # set ratio to NaN when teachers <= 0\n",
        "    invalid_teachers = extra['teachers'].notna() & (extra['teachers'] <= 0)\n",
        "    print(\"Extra: rows with teachers <= 0, set ratio to NaN:\", int(invalid_teachers.sum()))\n",
        "    if 'student_teacher_ratio' in extra:\n",
        "        extra.loc[invalid_teachers, 'student_teacher_ratio'] = np.nan\n",
        "    else:\n",
        "        extra['student_teacher_ratio'] = np.nan\n",
        "    # (Re)compute where valid\n",
        "    valid = extra['teachers'] > 0\n",
        "    extra.loc[valid, 'student_teacher_ratio'] = extra.loc[valid, 'students'] / extra.loc[valid, 'teachers']\n",
        "\n",
        "# Charter → 0/1\n",
        "if 'charter' in extra:\n",
        "    extra['charter'] = (extra['charter'].astype(str).str.strip().str.lower()\n",
        "                        .isin(['1','y','yes','true','t'])).astype(int)\n",
        "\n",
        "###clip extreme outliers (winsorize) for robustness\n",
        "if 'income' in edgap and edgap['income'].notna().sum() > 0:\n",
        "    lo, hi = edgap['income'].quantile([0.01, 0.99])\n",
        "    edgap['income'] = edgap['income'].clip(lo, hi)\n",
        "\n",
        "### clean columns we don’t need for analysis (keep it tidy)\n",
        "edgap_keep = {'ncessch','average_act','income','unemp_rate','pct_college','pct_lunch'}\n",
        "extra_keep = {'ncessch','state','locale','charter','students','teachers',\n",
        "              'student_teacher_ratio','free_lunch','reduced_lunch'}\n",
        "\n",
        "edgap = edgap[[c for c in edgap.columns if c in edgap_keep]]\n",
        "extra = extra[[c for c in extra.columns if c in extra_keep]]\n",
        "\n",
        "print(\"\\nRemaining columns (EdGap):\", edgap.columns.tolist())\n",
        "print(\"Remaining columns (Extra):\", extra.columns.tolist())\n",
        "\n",
        "###Re-merge after cleaning (inner to drop non-matching keys)\n",
        "df = edgap.merge(extra, on='ncessch', how='inner', validate='m:1')\n",
        "\n",
        "###Final row-level drop rules for modeling (optional but common):\n",
        "before = len(df)\n",
        "\n",
        "# drop rows missing target\n",
        "if 'average_act' in df:\n",
        "    df = df.dropna(subset=['average_act'])\n",
        "\n",
        "# require core predictors present\n",
        "core_predictors = [c for c in ['income','unemp_rate','pct_college','pct_lunch',\n",
        "                               'student_teacher_ratio','charter'] if c in df]\n",
        "df = df.dropna(subset=core_predictors, how='any')\n",
        "\n",
        "log_changes(before, len(df), \"Final NA drops for modeling\")\n",
        "\n",
        "### 7) Save cleaned data\n",
        "clean_path = \"../data_clean/edgap_extended_clean.csv\"\n",
        "df.to_csv(clean_path, index=False)\n",
        "print(\"Saved:\", clean_path)\n",
        "\n",
        "### 8) QC snapshot\n",
        "display_cols = [c for c in ['average_act','income','unemp_rate','pct_college','pct_lunch',\n",
        "                            'student_teacher_ratio','charter','students','teachers'] if c in df]\n",
        "print(\"\\nQC summary:\")\n",
        "print(df[display_cols].describe(include='all'))\n"
      ],
      "metadata": {
        "colab": {
          "base_uri": "https://localhost:8080/"
        },
        "id": "07Yd-ZLpRea1",
        "outputId": "3eda0032-32f7-4a01-deb2-80e4ad8ab4ca"
      },
      "execution_count": 63,
      "outputs": [
        {
          "output_type": "stream",
          "name": "stdout",
          "text": [
            "EdGap duplicates/NA keys: removed 0 rows\n",
            "Extra duplicates/NA keys: removed 0 rows\n",
            "EdGap: rows with nonpositive income set to NaN: 0\n",
            "Extra: rows with negative students set to NaN: 0\n",
            "Extra: rows with negative teachers set to NaN: 0\n",
            "Extra: rows with negative free_lunch set to NaN: 0\n",
            "Extra: rows with negative reduced_lunch set to NaN: 0\n",
            "Extra: rows with (free+reduced) > students set lunch counts to NaN: 0\n",
            "Extra: rows with teachers <= 0, set ratio to NaN: 225\n",
            "\n",
            "Remaining columns (EdGap): ['income', 'ncessch']\n",
            "Remaining columns (Extra): ['state', 'locale', 'charter', 'students', 'teachers', 'student_teacher_ratio', 'free_lunch', 'reduced_lunch', 'ncessch']\n",
            "Final NA drops for modeling: removed 0 rows\n",
            "Saved: ../data_clean/edgap_extended_clean.csv\n",
            "\n",
            "QC summary:\n",
            "       income  student_teacher_ratio  charter  students  teachers\n",
            "count     0.0                    0.0      0.0       0.0       0.0\n",
            "mean      NaN                    NaN      NaN       NaN       NaN\n",
            "std       NaN                    NaN      NaN       NaN       NaN\n",
            "min       NaN                    NaN      NaN       NaN       NaN\n",
            "25%       NaN                    NaN      NaN       NaN       NaN\n",
            "50%       NaN                    NaN      NaN       NaN       NaN\n",
            "75%       NaN                    NaN      NaN       NaN       NaN\n",
            "max       NaN                    NaN      NaN       NaN       NaN\n"
          ]
        }
      ]
    },
    {
      "cell_type": "markdown",
      "source": [
        "This code cleans and validates the EdGap and CCD datasets before analysis:\n",
        "\n",
        "Filters invalid ACT scores — keeps only rows where average_act is between 1 and 36 (valid range) or missing (NaN).\n",
        "\n",
        "Fixes out-of-range percentage values — replaces values outside 0–100 in percent_college and percent_lunch with NaN.\n",
        "\n",
        "Removes rows missing ncessch — ensures each record has a valid NCES School ID for merging.\n",
        "\n",
        "Drops duplicate school IDs — keeps only one unique entry per school in both datasets.\n",
        "\n",
        " to be precise , it ensures data accuracy, removes invalid or missing IDs, and prevents duplicate schools before merging or modeling."
      ],
      "metadata": {
        "id": "i2RyocBBR9uR"
      }
    },
    {
      "cell_type": "markdown",
      "source": [
        "##Missing data strategy (simple & explicit)"
      ],
      "metadata": {
        "id": "sNdnrxXsHlBM"
      }
    },
    {
      "cell_type": "markdown",
      "source": [
        "we worked on Creating any derived variables that will be useful in the analysis. These are variables that are transformations of other variables in your data set.\n",
        "we have also worked on Identifing missing values in the data sets. Impute or remove NaN values, as appropriate."
      ],
      "metadata": {
        "id": "06-7nEofQdTF"
      }
    },
    {
      "cell_type": "code",
      "source": [
        "# drop rows without join id\n",
        "if 'ncessch' in edgap.columns:\n",
        "    edgap = edgap.dropna(subset=['ncessch'])\n",
        "if 'ncessch' in extra.columns:\n",
        "    extra = extra.dropna(subset=['ncessch'])\n",
        "\n",
        "# simple imputations (median) for continuous predictors used later\n",
        "for c in ['income','unemp_rate','pct_college','pct_lunch']:\n",
        "    if c in edgap:\n",
        "        edgap[c] = edgap[c].fillna(edgap[c].median())\n",
        "\n",
        "for c in ['student_teacher_ratio','students','teachers','free_lunch','reduced_lunch']:\n",
        "    if c in extra:\n",
        "        extra[c] = extra[c].fillna(extra[c].median())\n",
        "\n",
        "# charter → numeric 0/1 in `extra`\n",
        "if 'charter' in extra:\n",
        "    extra['charter'] = (extra['charter'].astype(str)\n",
        "                        .str.strip().str.lower()\n",
        "                        .isin(['1','y','yes','true','t'])).astype(int)"
      ],
      "metadata": {
        "id": "NSnuMUUZHo6s"
      },
      "execution_count": 43,
      "outputs": []
    },
    {
      "cell_type": "markdown",
      "source": [
        "\n",
        "\n",
        "*   Deletes rows that don’t have a valid school ID (ncessch),\n",
        "since those rows can’t be used in joins or merges later.\n",
        "*   Ensures all numeric predictors have valid values for modeling\n",
        "*   Makes it a clean numeric variable usable in regression or comparison.\n",
        "\n",
        "\n",
        "\n",
        "\n"
      ],
      "metadata": {
        "id": "5IjVZgVdH4m2"
      }
    },
    {
      "cell_type": "markdown",
      "source": [
        "we have cleaned the data by removing missing IDs, filling in missing numeric values with medians, and converting the charter flag into a consistent 0/1 format — preparing the datasets for merging and analysis."
      ],
      "metadata": {
        "id": "25fgCy-PIFcu"
      }
    },
    {
      "cell_type": "code",
      "source": [
        "# Standardize the join key to 'ncessch' in both dataframes\n",
        "\n",
        "# EdGap key already 'ncessch'\n",
        "if 'ncessch' in edgap.columns:\n",
        "    edgap['ncessch'] = edgap['ncessch'].astype(str).str.strip()\n",
        "\n",
        "# Extra dataset uses 'nces_school_id' — ensure singular 'ncessch'\n",
        "if 'ncessch' in extra.columns:\n",
        "    # If 'ncessch' already exists, drop it to avoid duplicates after renaming\n",
        "    extra = extra.drop(columns=['ncessch'])\n",
        "\n",
        "if 'nces_school_id' in extra.columns:\n",
        "    extra = extra.rename(columns={'nces_school_id': 'ncessch'})\n",
        "\n",
        "\n",
        "# Verify the column now exists and is unique\n",
        "print('ncessch' in extra.columns)  # should print True\n",
        "print(f\"Number of 'ncessch' columns in extra: {extra.columns.tolist().count('ncessch')}\") # should print 1"
      ],
      "metadata": {
        "colab": {
          "base_uri": "https://localhost:8080/"
        },
        "id": "dJYeEJlxKS4R",
        "outputId": "724840e3-8426-4e3d-bff5-e97ab8e41208"
      },
      "execution_count": 44,
      "outputs": [
        {
          "output_type": "stream",
          "name": "stdout",
          "text": [
            "True\n",
            "Number of 'ncessch' columns in extra: 1\n"
          ]
        }
      ]
    },
    {
      "cell_type": "markdown",
      "source": [
        "##Tidy Data Structure"
      ],
      "metadata": {
        "id": "krf0zqUYc66_"
      }
    },
    {
      "cell_type": "markdown",
      "source": [
        "####The datasets used in this project were already in a tidy format where each row represents one school and each column represents a single variable (e.g., average ACT score, median household income, student–teacher ratio, etc.). Therefore, no pivoting or reshaping (such as using melt() or pivot_longer()) was necessary. The merged dataset maintained this tidy structure throughout the analysis, making it suitable for statistical modeling and visualization."
      ],
      "metadata": {
        "id": "xJOeo59rc1zE"
      }
    },
    {
      "cell_type": "markdown",
      "source": [
        "##Join EdGap -> School_search dataset on NCES School ID"
      ],
      "metadata": {
        "id": "KYuhOk7cIKIa"
      }
    },
    {
      "cell_type": "markdown",
      "source": [
        "Join the EdGap and school information data frames, keeping relevant columns. If you are using additional data sets, join the relevant data frames too."
      ],
      "metadata": {
        "id": "zJC9Xlo9QldB"
      }
    },
    {
      "cell_type": "markdown",
      "source": [
        "we are combining two datasets —\n",
        "\n",
        "EdGap: contains school performance and socioeconomic variables (e.g., ACT score, income, unemployment).\n",
        "\n",
        "School_Search: contains school-level details (state, locale, students, teachers, lunch info, etc.).\n",
        "\n",
        "The goal is to create a single, enriched dataset that links performance (EdGap) with school characteristics (School_Search)."
      ],
      "metadata": {
        "id": "hPDKDSyPNwe8"
      }
    },
    {
      "cell_type": "code",
      "source": [
        "import re\n",
        "\n",
        "def _normalize_name(s: str) -> str:\n",
        "    return re.sub(r'[^a-z0-9]', '', str(s).lower())\n",
        "\n",
        "def ensure_ncessch(df, candidate_names=('ncessch','nces_school_id','nces school id',\n",
        "                                        'school_id','school id','schoolid','ncesid')):\n",
        "    # If 'ncessch' lives in the index, bring it out\n",
        "    if getattr(df.index, 'name', None) == 'ncessch' and 'ncessch' not in df.columns:\n",
        "        df = df.reset_index()\n",
        "\n",
        "    # Already present\n",
        "    if 'ncessch' in df.columns:\n",
        "        df['ncessch'] = pd.Series(df['ncessch'], dtype='string').str.strip()\n",
        "        return df\n",
        "\n",
        "    # Build normalization map of existing columns\n",
        "    norm_map = {_normalize_name(c): c for c in df.columns}\n",
        "\n",
        "    # Try candidates (case/space/punct agnostic)\n",
        "    for cand in candidate_names:\n",
        "        key = _normalize_name(cand)\n",
        "        if key in norm_map:\n",
        "            src = norm_map[key]\n",
        "            df['ncessch'] = pd.Series(df[src], dtype='string').str.strip()\n",
        "            return df\n",
        "\n",
        "    # If still not found, show columns to help debug and create an empty col to avoid immediate KeyError\n",
        "    print(\"Could not detect a school ID column in this DataFrame. Available columns:\")\n",
        "    print(list(df.columns))\n",
        "    df['ncessch'] = pd.NA\n",
        "    return df\n",
        "\n",
        "# --- Ensure both frames have clean 'ncessch' as string ---\n",
        "edgap = ensure_ncessch(edgap)\n",
        "extra = ensure_ncessch(extra)\n",
        "\n",
        "# Optional: drop rows missing the join id\n",
        "edgap = edgap.dropna(subset=['ncessch'])\n",
        "extra = extra.dropna(subset=['ncessch'])\n",
        "\n",
        "# Normalize dtype\n",
        "edgap['ncessch'] = edgap['ncessch'].astype('string').str.strip()\n",
        "extra['ncessch'] = extra['ncessch'].astype('string').str.strip()\n",
        "\n",
        "# Safety-select only columns that exist in extra\n",
        "wanted_extra = ['ncessch','state','locale','charter',\n",
        "                'students','teachers','student_teacher_ratio',\n",
        "                'free_lunch','reduced_lunch']\n",
        "keep_extra = [c for c in wanted_extra if c in extra.columns]\n",
        "\n",
        "# Merge\n",
        "df = edgap.merge(extra[keep_extra], on='ncessch', how='inner')\n",
        "\n",
        "# Keep analysis columns that actually exist\n",
        "analysis_cols = [\n",
        "    'ncessch','state','locale',\n",
        "    'average_act','income','unemp_rate','pct_college','pct_lunch',\n",
        "    'student_teacher_ratio','charter','students','teachers',\n",
        "    'free_lunch','reduced_lunch'\n",
        "]\n",
        "df = df[[c for c in analysis_cols if c in df.columns]].copy()\n",
        "\n",
        "print(\"Merged shape:\", df.shape)\n",
        "df.head()\n"
      ],
      "metadata": {
        "colab": {
          "base_uri": "https://localhost:8080/",
          "height": 125
        },
        "id": "rSyCbdmOM0mC",
        "outputId": "a84f4750-f54b-4574-8a42-daabd8c98eb8"
      },
      "execution_count": 51,
      "outputs": [
        {
          "output_type": "stream",
          "name": "stdout",
          "text": [
            "Could not detect a school ID column in this DataFrame. Available columns:\n",
            "['income']\n",
            "Merged shape: (0, 10)\n"
          ]
        },
        {
          "output_type": "execute_result",
          "data": {
            "text/plain": [
              "Empty DataFrame\n",
              "Columns: [ncessch, state, locale, income, student_teacher_ratio, charter, students, teachers, free_lunch, reduced_lunch]\n",
              "Index: []"
            ],
            "text/html": [
              "\n",
              "  <div id=\"df-82a0ba0f-53b6-4c5b-8946-35c557737f67\" class=\"colab-df-container\">\n",
              "    <div>\n",
              "<style scoped>\n",
              "    .dataframe tbody tr th:only-of-type {\n",
              "        vertical-align: middle;\n",
              "    }\n",
              "\n",
              "    .dataframe tbody tr th {\n",
              "        vertical-align: top;\n",
              "    }\n",
              "\n",
              "    .dataframe thead th {\n",
              "        text-align: right;\n",
              "    }\n",
              "</style>\n",
              "<table border=\"1\" class=\"dataframe\">\n",
              "  <thead>\n",
              "    <tr style=\"text-align: right;\">\n",
              "      <th></th>\n",
              "      <th>ncessch</th>\n",
              "      <th>state</th>\n",
              "      <th>locale</th>\n",
              "      <th>income</th>\n",
              "      <th>student_teacher_ratio</th>\n",
              "      <th>charter</th>\n",
              "      <th>students</th>\n",
              "      <th>teachers</th>\n",
              "      <th>free_lunch</th>\n",
              "      <th>reduced_lunch</th>\n",
              "    </tr>\n",
              "  </thead>\n",
              "  <tbody>\n",
              "  </tbody>\n",
              "</table>\n",
              "</div>\n",
              "    <div class=\"colab-df-buttons\">\n",
              "\n",
              "  <div class=\"colab-df-container\">\n",
              "    <button class=\"colab-df-convert\" onclick=\"convertToInteractive('df-82a0ba0f-53b6-4c5b-8946-35c557737f67')\"\n",
              "            title=\"Convert this dataframe to an interactive table.\"\n",
              "            style=\"display:none;\">\n",
              "\n",
              "  <svg xmlns=\"http://www.w3.org/2000/svg\" height=\"24px\" viewBox=\"0 -960 960 960\">\n",
              "    <path d=\"M120-120v-720h720v720H120Zm60-500h600v-160H180v160Zm220 220h160v-160H400v160Zm0 220h160v-160H400v160ZM180-400h160v-160H180v160Zm440 0h160v-160H620v160ZM180-180h160v-160H180v160Zm440 0h160v-160H620v160Z\"/>\n",
              "  </svg>\n",
              "    </button>\n",
              "\n",
              "  <style>\n",
              "    .colab-df-container {\n",
              "      display:flex;\n",
              "      gap: 12px;\n",
              "    }\n",
              "\n",
              "    .colab-df-convert {\n",
              "      background-color: #E8F0FE;\n",
              "      border: none;\n",
              "      border-radius: 50%;\n",
              "      cursor: pointer;\n",
              "      display: none;\n",
              "      fill: #1967D2;\n",
              "      height: 32px;\n",
              "      padding: 0 0 0 0;\n",
              "      width: 32px;\n",
              "    }\n",
              "\n",
              "    .colab-df-convert:hover {\n",
              "      background-color: #E2EBFA;\n",
              "      box-shadow: 0px 1px 2px rgba(60, 64, 67, 0.3), 0px 1px 3px 1px rgba(60, 64, 67, 0.15);\n",
              "      fill: #174EA6;\n",
              "    }\n",
              "\n",
              "    .colab-df-buttons div {\n",
              "      margin-bottom: 4px;\n",
              "    }\n",
              "\n",
              "    [theme=dark] .colab-df-convert {\n",
              "      background-color: #3B4455;\n",
              "      fill: #D2E3FC;\n",
              "    }\n",
              "\n",
              "    [theme=dark] .colab-df-convert:hover {\n",
              "      background-color: #434B5C;\n",
              "      box-shadow: 0px 1px 3px 1px rgba(0, 0, 0, 0.15);\n",
              "      filter: drop-shadow(0px 1px 2px rgba(0, 0, 0, 0.3));\n",
              "      fill: #FFFFFF;\n",
              "    }\n",
              "  </style>\n",
              "\n",
              "    <script>\n",
              "      const buttonEl =\n",
              "        document.querySelector('#df-82a0ba0f-53b6-4c5b-8946-35c557737f67 button.colab-df-convert');\n",
              "      buttonEl.style.display =\n",
              "        google.colab.kernel.accessAllowed ? 'block' : 'none';\n",
              "\n",
              "      async function convertToInteractive(key) {\n",
              "        const element = document.querySelector('#df-82a0ba0f-53b6-4c5b-8946-35c557737f67');\n",
              "        const dataTable =\n",
              "          await google.colab.kernel.invokeFunction('convertToInteractive',\n",
              "                                                    [key], {});\n",
              "        if (!dataTable) return;\n",
              "\n",
              "        const docLinkHtml = 'Like what you see? Visit the ' +\n",
              "          '<a target=\"_blank\" href=https://colab.research.google.com/notebooks/data_table.ipynb>data table notebook</a>'\n",
              "          + ' to learn more about interactive tables.';\n",
              "        element.innerHTML = '';\n",
              "        dataTable['output_type'] = 'display_data';\n",
              "        await google.colab.output.renderOutput(dataTable, element);\n",
              "        const docLink = document.createElement('div');\n",
              "        docLink.innerHTML = docLinkHtml;\n",
              "        element.appendChild(docLink);\n",
              "      }\n",
              "    </script>\n",
              "  </div>\n",
              "\n",
              "\n",
              "    </div>\n",
              "  </div>\n"
            ],
            "application/vnd.google.colaboratory.intrinsic+json": {
              "type": "dataframe",
              "variable_name": "df",
              "repr_error": "Out of range float values are not JSON compliant: nan"
            }
          },
          "metadata": {},
          "execution_count": 51
        }
      ]
    },
    {
      "cell_type": "code",
      "source": [
        "# ---- 0) Helpers\n",
        "def to_str_id(s):\n",
        "    return pd.Series(s, dtype=\"string\").str.strip()\n",
        "\n",
        "# ---- 1) Ensure extra has 'ncessch'\n",
        "if 'ncessch' not in extra.columns:\n",
        "    for cand in ['nces_school_id', 'school_id', 'schoolid', 'NCESSCH', 'nces id']:\n",
        "        if cand in extra.columns:\n",
        "            extra['ncessch'] = to_str_id(extra[cand])\n",
        "            break\n",
        "\n",
        "\n",
        "if 'ncessch' not in extra.columns:\n",
        "    extra['ncessch'] = pd.NA\n",
        "\n",
        "# Normalize id dtypes across frames\n",
        "if 'ncessch' in edgap.columns:\n",
        "    edgap['ncessch'] = to_str_id(edgap['ncessch'])\n",
        "extra['ncessch'] = to_str_id(extra['ncessch'])\n",
        "\n",
        "# Safety-select only columns that actually exist in `extra`\n",
        "wanted_extra = ['ncessch','state','locale','charter',\n",
        "                'students','teachers','student_teacher_ratio',\n",
        "                'free_lunch','reduced_lunch']\n",
        "keep_extra = [c for c in wanted_extra if c in extra.columns]\n",
        "\n",
        "# Optional: quick warning about missing columns\n",
        "missing_extra = [c for c in wanted_extra if c not in extra.columns]\n",
        "if missing_extra:\n",
        "    print(\"Missing in `extra` (skipped):\", missing_extra)\n",
        "\n",
        "# Merge\n",
        "df = edgap.merge(extra[keep_extra], on='ncessch', how='inner')\n",
        "\n",
        "# Keep tidy analysis columns that exist\n",
        "analysis_cols = ['ncessch','state','locale',\n",
        "                 'average_act','income','unemp_rate','pct_college','pct_lunch',\n",
        "                 'student_teacher_ratio','charter','students','teachers',\n",
        "                 'free_lunch','reduced_lunch']\n",
        "df = df[[c for c in analysis_cols if c in df.columns]].copy()\n",
        "\n",
        "# Quick diagnostics\n",
        "print(\"Merged shape:\", df.shape)\n",
        "print(\"Sample:\")\n",
        "display(df.head())\n",
        "\n",
        "# if merge is unexpectedly small:\n",
        "if len(df) < 5:\n",
        "    chk = edgap[['ncessch']].merge(extra[['ncessch']], on='ncessch', how='outer', indicator=True)\n",
        "    print(chk['_merge'].value_counts())\n",
        "    # Show a few unmatched ids\n",
        "    print(\"Only in edgap:\", chk.loc[chk['_merge']=='left_only','ncessch'].dropna().head(5).tolist())\n",
        "    print(\"Only in extra:\", chk.loc[chk['_merge']=='right_only','ncessch'].dropna().head(5).tolist())\n"
      ],
      "metadata": {
        "colab": {
          "base_uri": "https://localhost:8080/",
          "height": 229
        },
        "id": "Nfa6am1DMqJt",
        "outputId": "534290bb-3da6-4d4f-c49a-45bf58634d10"
      },
      "execution_count": 52,
      "outputs": [
        {
          "output_type": "stream",
          "name": "stdout",
          "text": [
            "Merged shape: (0, 10)\n",
            "Sample:\n"
          ]
        },
        {
          "output_type": "display_data",
          "data": {
            "text/plain": [
              "Empty DataFrame\n",
              "Columns: [ncessch, state, locale, income, student_teacher_ratio, charter, students, teachers, free_lunch, reduced_lunch]\n",
              "Index: []"
            ],
            "text/html": [
              "\n",
              "  <div id=\"df-a6a16c7e-03d5-4601-b126-a30ba2d2d6d5\" class=\"colab-df-container\">\n",
              "    <div>\n",
              "<style scoped>\n",
              "    .dataframe tbody tr th:only-of-type {\n",
              "        vertical-align: middle;\n",
              "    }\n",
              "\n",
              "    .dataframe tbody tr th {\n",
              "        vertical-align: top;\n",
              "    }\n",
              "\n",
              "    .dataframe thead th {\n",
              "        text-align: right;\n",
              "    }\n",
              "</style>\n",
              "<table border=\"1\" class=\"dataframe\">\n",
              "  <thead>\n",
              "    <tr style=\"text-align: right;\">\n",
              "      <th></th>\n",
              "      <th>ncessch</th>\n",
              "      <th>state</th>\n",
              "      <th>locale</th>\n",
              "      <th>income</th>\n",
              "      <th>student_teacher_ratio</th>\n",
              "      <th>charter</th>\n",
              "      <th>students</th>\n",
              "      <th>teachers</th>\n",
              "      <th>free_lunch</th>\n",
              "      <th>reduced_lunch</th>\n",
              "    </tr>\n",
              "  </thead>\n",
              "  <tbody>\n",
              "  </tbody>\n",
              "</table>\n",
              "</div>\n",
              "    <div class=\"colab-df-buttons\">\n",
              "\n",
              "  <div class=\"colab-df-container\">\n",
              "    <button class=\"colab-df-convert\" onclick=\"convertToInteractive('df-a6a16c7e-03d5-4601-b126-a30ba2d2d6d5')\"\n",
              "            title=\"Convert this dataframe to an interactive table.\"\n",
              "            style=\"display:none;\">\n",
              "\n",
              "  <svg xmlns=\"http://www.w3.org/2000/svg\" height=\"24px\" viewBox=\"0 -960 960 960\">\n",
              "    <path d=\"M120-120v-720h720v720H120Zm60-500h600v-160H180v160Zm220 220h160v-160H400v160Zm0 220h160v-160H400v160ZM180-400h160v-160H180v160Zm440 0h160v-160H620v160ZM180-180h160v-160H180v160Zm440 0h160v-160H620v160Z\"/>\n",
              "  </svg>\n",
              "    </button>\n",
              "\n",
              "  <style>\n",
              "    .colab-df-container {\n",
              "      display:flex;\n",
              "      gap: 12px;\n",
              "    }\n",
              "\n",
              "    .colab-df-convert {\n",
              "      background-color: #E8F0FE;\n",
              "      border: none;\n",
              "      border-radius: 50%;\n",
              "      cursor: pointer;\n",
              "      display: none;\n",
              "      fill: #1967D2;\n",
              "      height: 32px;\n",
              "      padding: 0 0 0 0;\n",
              "      width: 32px;\n",
              "    }\n",
              "\n",
              "    .colab-df-convert:hover {\n",
              "      background-color: #E2EBFA;\n",
              "      box-shadow: 0px 1px 2px rgba(60, 64, 67, 0.3), 0px 1px 3px 1px rgba(60, 64, 67, 0.15);\n",
              "      fill: #174EA6;\n",
              "    }\n",
              "\n",
              "    .colab-df-buttons div {\n",
              "      margin-bottom: 4px;\n",
              "    }\n",
              "\n",
              "    [theme=dark] .colab-df-convert {\n",
              "      background-color: #3B4455;\n",
              "      fill: #D2E3FC;\n",
              "    }\n",
              "\n",
              "    [theme=dark] .colab-df-convert:hover {\n",
              "      background-color: #434B5C;\n",
              "      box-shadow: 0px 1px 3px 1px rgba(0, 0, 0, 0.15);\n",
              "      filter: drop-shadow(0px 1px 2px rgba(0, 0, 0, 0.3));\n",
              "      fill: #FFFFFF;\n",
              "    }\n",
              "  </style>\n",
              "\n",
              "    <script>\n",
              "      const buttonEl =\n",
              "        document.querySelector('#df-a6a16c7e-03d5-4601-b126-a30ba2d2d6d5 button.colab-df-convert');\n",
              "      buttonEl.style.display =\n",
              "        google.colab.kernel.accessAllowed ? 'block' : 'none';\n",
              "\n",
              "      async function convertToInteractive(key) {\n",
              "        const element = document.querySelector('#df-a6a16c7e-03d5-4601-b126-a30ba2d2d6d5');\n",
              "        const dataTable =\n",
              "          await google.colab.kernel.invokeFunction('convertToInteractive',\n",
              "                                                    [key], {});\n",
              "        if (!dataTable) return;\n",
              "\n",
              "        const docLinkHtml = 'Like what you see? Visit the ' +\n",
              "          '<a target=\"_blank\" href=https://colab.research.google.com/notebooks/data_table.ipynb>data table notebook</a>'\n",
              "          + ' to learn more about interactive tables.';\n",
              "        element.innerHTML = '';\n",
              "        dataTable['output_type'] = 'display_data';\n",
              "        await google.colab.output.renderOutput(dataTable, element);\n",
              "        const docLink = document.createElement('div');\n",
              "        docLink.innerHTML = docLinkHtml;\n",
              "        element.appendChild(docLink);\n",
              "      }\n",
              "    </script>\n",
              "  </div>\n",
              "\n",
              "\n",
              "    </div>\n",
              "  </div>\n"
            ],
            "application/vnd.google.colaboratory.intrinsic+json": {
              "type": "dataframe",
              "repr_error": "Out of range float values are not JSON compliant: nan"
            }
          },
          "metadata": {}
        },
        {
          "output_type": "stream",
          "name": "stdout",
          "text": [
            "_merge\n",
            "right_only    11000\n",
            "left_only         0\n",
            "both              0\n",
            "Name: count, dtype: int64\n",
            "Only in edgap: []\n",
            "Only in extra: ['100000400012', '100000500013', '100001100091', '100001500112', '100001600143']\n"
          ]
        }
      ]
    },
    {
      "cell_type": "code",
      "source": [
        "# Ensure only unique columns are selected from extra\n",
        "extra_cols = ['ncessch','state','locale','charter',\n",
        "              'students','teachers','student_teacher_ratio',\n",
        "              'free_lunch','reduced_lunch']\n",
        "extra_cols_unique = list(dict.fromkeys([c for c in extra_cols if c in extra.columns]))\n",
        "\n",
        "df = edgap.merge(extra[extra_cols_unique], on='ncessch', how='inner')\n",
        "\n",
        "# keep tidy, readable set\n",
        "analysis_cols = [\n",
        "    'ncessch','state','locale',\n",
        "    'average_act','income','unemp_rate','pct_college','pct_lunch',\n",
        "    'student_teacher_ratio','charter','students','teachers',\n",
        "    'free_lunch','reduced_lunch'\n",
        "]\n",
        "# Ensure only unique columns are selected for the final dataframe\n",
        "analysis_cols_unique = list(dict.fromkeys([c for c in analysis_cols if c in df.columns]))\n",
        "df = df[analysis_cols_unique].copy()"
      ],
      "metadata": {
        "id": "k4CVfPf3LxWZ"
      },
      "execution_count": 49,
      "outputs": []
    },
    {
      "cell_type": "markdown",
      "source": [
        "##Export clean data"
      ],
      "metadata": {
        "id": "Opl8AVXIN43m"
      }
    },
    {
      "cell_type": "code",
      "source": [
        "import os\n",
        "from pathlib import Path\n",
        "\n",
        "clean_path = \"../data_clean/edgap_extended_clean.csv\"\n",
        "\n",
        "# Create the directory if it doesn't exist\n",
        "output_dir = Path(clean_path).parent\n",
        "output_dir.mkdir(parents=True, exist_ok=True)\n",
        "\n",
        "df.to_csv(clean_path, index=False)\n",
        "clean_path"
      ],
      "metadata": {
        "colab": {
          "base_uri": "https://localhost:8080/",
          "height": 35
        },
        "id": "EEgcoeBGN1l9",
        "outputId": "d9e26257-5697-4641-8f92-b5a5b517d8f3"
      },
      "execution_count": 54,
      "outputs": [
        {
          "output_type": "execute_result",
          "data": {
            "text/plain": [
              "'../data_clean/edgap_extended_clean.csv'"
            ],
            "application/vnd.google.colaboratory.intrinsic+json": {
              "type": "string"
            }
          },
          "metadata": {},
          "execution_count": 54
        }
      ]
    },
    {
      "cell_type": "markdown",
      "source": [
        "##Exploratory analysis (lightweight, reproducible)"
      ],
      "metadata": {
        "id": "cr29W0HFODfF"
      }
    },
    {
      "cell_type": "markdown",
      "source": [
        "This code performs an exploratory data analysis of the merged dataset (df) containing school-level information.\n",
        "It first checks whether the dataset is empty and, if not, displays a numeric summary using df.describe().\n",
        "Then, it creates three visualizations to explore relationships between socioeconomic and academic factors:\n",
        "\n",
        "\n",
        "1.   a scatter plot of Average ACT score\n",
        "vs. Percent Lunch, illustrating how low-income enrollment (a proxy for socioeconomic status) relates to school performance;\n",
        "2.   a scatter plot of Average ACT vs. Student–Teacher Ratio, showing whether larger class sizes correlate with test outcomes\n",
        "3.    a boxplot comparing Average ACT scores between charter and non-charter schools. Each plot is automatically saved as a .png file in the ../reports/ directory for later use."
      ],
      "metadata": {
        "id": "qWf2M9_ROYYE"
      }
    },
    {
      "cell_type": "code",
      "source": [
        "# numeric summary\n",
        "if not df.empty:\n",
        "    display(df.describe())\n",
        "else:\n",
        "    print(\"DataFrame is empty, cannot display numeric summary.\")\n",
        "\n",
        "# simple scatter: ACT vs pct_lunch\n",
        "if 'pct_lunch' in df.columns and 'average_act' in df.columns:\n",
        "    plt.figure()\n",
        "    plt.scatter(df['pct_lunch'], df['average_act'], alpha=0.3)\n",
        "    plt.xlabel('Percent Lunch (low-SES proxy)')\n",
        "    plt.ylabel('Average ACT')\n",
        "    plt.title('ACT vs Percent Lunch')\n",
        "    plt.tight_layout()\n",
        "    # Ensure the reports directory exists\n",
        "    reports_dir = Path(\"../reports\")\n",
        "    reports_dir.mkdir(parents=True, exist_ok=True)\n",
        "    plt.savefig(\"../reports/act_vs_pct_lunch.png\", dpi=200)\n",
        "else:\n",
        "    print(\"Skipping ACT vs Percent Lunch plot: 'pct_lunch' or 'average_act' not in DataFrame.\")\n",
        "\n",
        "\n",
        "# ACT vs student–teacher ratio\n",
        "if 'student_teacher_ratio' in df.columns and 'average_act' in df.columns:\n",
        "    plt.figure()\n",
        "    plt.scatter(df['student_teacher_ratio'], df['average_act'], alpha=0.3)\n",
        "    plt.xlabel('Student–Teacher Ratio')\n",
        "    plt.ylabel('Average ACT')\n",
        "    plt.title('ACT vs Student–Teacher Ratio')\n",
        "    plt.tight_layout()\n",
        "    # Ensure the reports directory exists\n",
        "    reports_dir = Path(\"../reports\")\n",
        "    reports_dir.mkdir(parents=True, exist_ok=True)\n",
        "    plt.savefig(\"../reports/act_vs_str.png\", dpi=200)\n",
        "else:\n",
        "    print(\"Skipping ACT vs Student–Teacher Ratio plot: 'student_teacher_ratio' or 'average_act' not in DataFrame.\")\n",
        "\n",
        "\n",
        "# boxplot by charter (quick & dirty)\n",
        "if 'charter' in df.columns and 'average_act' in df.columns:\n",
        "    plt.figure()\n",
        "    # basic manual boxplot with matplotlib\n",
        "    data0 = df.loc[df['charter']==0, 'average_act'].dropna().values\n",
        "    data1 = df.loc[df['charter']==1, 'average_act'].dropna().values\n",
        "    if len(data0) > 0 or len(data1) > 0: # Only plot if there's data\n",
        "        plt.boxplot([data0, data1], labels=['Non-charter','Charter'])\n",
        "        plt.ylabel('Average ACT'); plt.title('ACT by Charter')\n",
        "        plt.tight_layout()\n",
        "        # Ensure the reports directory exists\n",
        "        reports_dir = Path(\"../reports\")\n",
        "        reports_dir.mkdir(parents=True, exist_ok=True)\n",
        "        plt.savefig(\"../reports/act_by_charter.png\", dpi=200)\n",
        "    else:\n",
        "        print(\"Skipping ACT by Charter boxplot: No data for plotting.\")\n",
        "else:\n",
        "    print(\"Skipping ACT by Charter boxplot: 'charter' or 'average_act' not in DataFrame.\")"
      ],
      "metadata": {
        "colab": {
          "base_uri": "https://localhost:8080/"
        },
        "id": "2QuCBb2HOEoh",
        "outputId": "b77b0ccc-645d-4849-8520-6d7128054137"
      },
      "execution_count": 56,
      "outputs": [
        {
          "output_type": "stream",
          "name": "stdout",
          "text": [
            "DataFrame is empty, cannot display numeric summary.\n",
            "Skipping ACT vs Percent Lunch plot: 'pct_lunch' or 'average_act' not in DataFrame.\n",
            "Skipping ACT vs Student–Teacher Ratio plot: 'student_teacher_ratio' or 'average_act' not in DataFrame.\n",
            "Skipping ACT by Charter boxplot: 'charter' or 'average_act' not in DataFrame.\n"
          ]
        }
      ]
    },
    {
      "cell_type": "markdown",
      "source": [
        "##Models: baseline vs extended"
      ],
      "metadata": {
        "id": "w8nF3sMeO1fn"
      }
    },
    {
      "cell_type": "code",
      "source": [
        "formula_base = \"average_act ~ income + unemp_rate + pct_college + pct_lunch\"\n",
        "formula_ext  = (\"average_act ~ income + unemp_rate + pct_college + pct_lunch \"\n",
        "                \"+ student_teacher_ratio + charter + pct_lunch:charter\")\n",
        "\n",
        "# Check if required columns for the base model exist\n",
        "base_cols = ['average_act', 'income', 'unemp_rate', 'pct_college', 'pct_lunch']\n",
        "if not all(col in df.columns for col in base_cols):\n",
        "    print(f\"Skipping base model: Not all required columns found in df. Missing: {[col for col in base_cols if col not in df.columns]}\")\n",
        "    m_base = None # Set model to None if columns are missing\n",
        "else:\n",
        "    m_base = smf.ols(formula_base, data=df).fit()\n",
        "    print(\"Base Model Summary:\")\n",
        "    print(m_base.summary())\n",
        "\n",
        "\n",
        "# Check if required columns for the extended model exist\n",
        "ext_cols = ['average_act', 'income', 'unemp_rate', 'pct_college', 'pct_lunch', 'student_teacher_ratio', 'charter']\n",
        "if not all(col in df.columns for col in ext_cols):\n",
        "     print(f\"Skipping extended model: Not all required columns found in df. Missing: {[col for col in ext_cols if col not in df.columns]}\")\n",
        "     m_ext = None # Set model to None if columns are missing\n",
        "else:\n",
        "    m_ext  = smf.ols(formula_ext,  data=df).fit()\n",
        "    print(\"\\nExtended Model Summary:\")\n",
        "    print(m_ext.summary())"
      ],
      "metadata": {
        "colab": {
          "base_uri": "https://localhost:8080/"
        },
        "id": "55Id5GiIO270",
        "outputId": "9e666ed6-4311-44e1-a54d-8a6df8f5abf2"
      },
      "execution_count": 58,
      "outputs": [
        {
          "output_type": "stream",
          "name": "stdout",
          "text": [
            "Skipping base model: Not all required columns found in df. Missing: ['average_act', 'unemp_rate', 'pct_college', 'pct_lunch']\n",
            "Skipping extended model: Not all required columns found in df. Missing: ['average_act', 'unemp_rate', 'pct_college', 'pct_lunch']\n"
          ]
        }
      ]
    },
    {
      "cell_type": "markdown",
      "source": [
        "This code fits and compares two linear regression models that predict Average ACT scores using socioeconomic and school-related factors.\n",
        "\n",
        "The base model (formula_base) includes key socioeconomic predictors — income, unemployment rate, percent college-educated, and percent lunch (a proxy for low socioeconomic status). Before fitting, it checks whether all required columns exist in the dataset; if any are missing, it skips the model.\n",
        "\n",
        "The extended model (formula_ext) adds two additional predictors — student–teacher ratio and charter school status — along with an interaction term (pct_lunch:charter) to test whether the effect of lunch percentage differs between charter and non-charter schools.\n",
        "\n",
        "Both models are estimated using Ordinary Least Squares (OLS) via the statsmodels formula API. After fitting, the code prints detailed summaries (coefficients, R², p-values, etc.) to compare how well each model explains variation in ACT scores."
      ],
      "metadata": {
        "id": "tg8mm0R6PLbK"
      }
    },
    {
      "cell_type": "markdown",
      "source": [
        "###Cross-validated MAE (sanity):"
      ],
      "metadata": {
        "id": "a-_yPy6QPEQp"
      }
    },
    {
      "cell_type": "code",
      "source": [
        "from patsy import dmatrices\n",
        "from sklearn.model_selection import KFold, cross_val_score\n",
        "from sklearn.linear_model import LinearRegression\n",
        "import pandas as pd\n",
        "import numpy as np\n",
        "\n",
        "def cv_mae(formula, data, k=5):\n",
        "    # Check if required columns for the formula exist in the data\n",
        "    required_cols = [col.strip() for col in formula.replace('~', '+').split('+') if col.strip()]\n",
        "    if not all(col in data.columns for col in required_cols):\n",
        "        print(f\"Skipping cross-validation for formula '{formula}': Not all required columns found in data.\")\n",
        "        return np.nan # Return NaN or some indicator that it was skipped\n",
        "\n",
        "    y, X = dmatrices(formula, data, return_type='dataframe')\n",
        "    # drop intercept if present; LinearRegression adds its own\n",
        "    if 'Intercept' in X.columns: X = X.drop(columns='Intercept')\n",
        "    X = X.values; y = y.values.ravel()\n",
        "    model = LinearRegression()\n",
        "    kf = KFold(n_splits=k, shuffle=True, random_state=42)\n",
        "    scores = cross_val_score(model, X, y, scoring='neg_mean_absolute_error', cv=kf)\n",
        "    return -scores.mean()\n",
        "\n",
        "cv_results = pd.DataFrame({\n",
        "    'Model':['Baseline','Extended'],\n",
        "    # Add checks before calling cv_mae\n",
        "    'CV_MAE':[cv_mae(formula_base, df) if 'average_act' in df.columns else np.nan,\n",
        "              cv_mae(formula_ext, df) if 'average_act' in df.columns and 'student_teacher_ratio' in df.columns and 'charter' in df.columns else np.nan],\n",
        "    # Add checks before accessing model attributes, as models might be None\n",
        "    'Adj_R2':[m_base.rsquared_adj if m_base is not None else np.nan,\n",
        "              m_ext.rsquared_adj if m_ext is not None else np.nan],\n",
        "    'AIC':[m_base.aic if m_base is not None else np.nan,\n",
        "           m_ext.aic if m_ext is not None else np.nan],\n",
        "    'BIC':[m_base.bic if m_base is not None else np.nan,\n",
        "           m_ext.bic if m_ext is not None else np.nan],\n",
        "})\n",
        "cv_results"
      ],
      "metadata": {
        "colab": {
          "base_uri": "https://localhost:8080/",
          "height": 125
        },
        "id": "KGTFlUmVPF8e",
        "outputId": "358a7490-57b3-47e8-b84c-6c3a1b194fd4"
      },
      "execution_count": 61,
      "outputs": [
        {
          "output_type": "execute_result",
          "data": {
            "text/plain": [
              "      Model  CV_MAE  Adj_R2  AIC  BIC\n",
              "0  Baseline     NaN     NaN  NaN  NaN\n",
              "1  Extended     NaN     NaN  NaN  NaN"
            ],
            "text/html": [
              "\n",
              "  <div id=\"df-457df373-c309-475d-a2fe-e043e9d8ee25\" class=\"colab-df-container\">\n",
              "    <div>\n",
              "<style scoped>\n",
              "    .dataframe tbody tr th:only-of-type {\n",
              "        vertical-align: middle;\n",
              "    }\n",
              "\n",
              "    .dataframe tbody tr th {\n",
              "        vertical-align: top;\n",
              "    }\n",
              "\n",
              "    .dataframe thead th {\n",
              "        text-align: right;\n",
              "    }\n",
              "</style>\n",
              "<table border=\"1\" class=\"dataframe\">\n",
              "  <thead>\n",
              "    <tr style=\"text-align: right;\">\n",
              "      <th></th>\n",
              "      <th>Model</th>\n",
              "      <th>CV_MAE</th>\n",
              "      <th>Adj_R2</th>\n",
              "      <th>AIC</th>\n",
              "      <th>BIC</th>\n",
              "    </tr>\n",
              "  </thead>\n",
              "  <tbody>\n",
              "    <tr>\n",
              "      <th>0</th>\n",
              "      <td>Baseline</td>\n",
              "      <td>NaN</td>\n",
              "      <td>NaN</td>\n",
              "      <td>NaN</td>\n",
              "      <td>NaN</td>\n",
              "    </tr>\n",
              "    <tr>\n",
              "      <th>1</th>\n",
              "      <td>Extended</td>\n",
              "      <td>NaN</td>\n",
              "      <td>NaN</td>\n",
              "      <td>NaN</td>\n",
              "      <td>NaN</td>\n",
              "    </tr>\n",
              "  </tbody>\n",
              "</table>\n",
              "</div>\n",
              "    <div class=\"colab-df-buttons\">\n",
              "\n",
              "  <div class=\"colab-df-container\">\n",
              "    <button class=\"colab-df-convert\" onclick=\"convertToInteractive('df-457df373-c309-475d-a2fe-e043e9d8ee25')\"\n",
              "            title=\"Convert this dataframe to an interactive table.\"\n",
              "            style=\"display:none;\">\n",
              "\n",
              "  <svg xmlns=\"http://www.w3.org/2000/svg\" height=\"24px\" viewBox=\"0 -960 960 960\">\n",
              "    <path d=\"M120-120v-720h720v720H120Zm60-500h600v-160H180v160Zm220 220h160v-160H400v160Zm0 220h160v-160H400v160ZM180-400h160v-160H180v160Zm440 0h160v-160H620v160ZM180-180h160v-160H180v160Zm440 0h160v-160H620v160Z\"/>\n",
              "  </svg>\n",
              "    </button>\n",
              "\n",
              "  <style>\n",
              "    .colab-df-container {\n",
              "      display:flex;\n",
              "      gap: 12px;\n",
              "    }\n",
              "\n",
              "    .colab-df-convert {\n",
              "      background-color: #E8F0FE;\n",
              "      border: none;\n",
              "      border-radius: 50%;\n",
              "      cursor: pointer;\n",
              "      display: none;\n",
              "      fill: #1967D2;\n",
              "      height: 32px;\n",
              "      padding: 0 0 0 0;\n",
              "      width: 32px;\n",
              "    }\n",
              "\n",
              "    .colab-df-convert:hover {\n",
              "      background-color: #E2EBFA;\n",
              "      box-shadow: 0px 1px 2px rgba(60, 64, 67, 0.3), 0px 1px 3px 1px rgba(60, 64, 67, 0.15);\n",
              "      fill: #174EA6;\n",
              "    }\n",
              "\n",
              "    .colab-df-buttons div {\n",
              "      margin-bottom: 4px;\n",
              "    }\n",
              "\n",
              "    [theme=dark] .colab-df-convert {\n",
              "      background-color: #3B4455;\n",
              "      fill: #D2E3FC;\n",
              "    }\n",
              "\n",
              "    [theme=dark] .colab-df-convert:hover {\n",
              "      background-color: #434B5C;\n",
              "      box-shadow: 0px 1px 3px 1px rgba(0, 0, 0, 0.15);\n",
              "      filter: drop-shadow(0px 1px 2px rgba(0, 0, 0, 0.3));\n",
              "      fill: #FFFFFF;\n",
              "    }\n",
              "  </style>\n",
              "\n",
              "    <script>\n",
              "      const buttonEl =\n",
              "        document.querySelector('#df-457df373-c309-475d-a2fe-e043e9d8ee25 button.colab-df-convert');\n",
              "      buttonEl.style.display =\n",
              "        google.colab.kernel.accessAllowed ? 'block' : 'none';\n",
              "\n",
              "      async function convertToInteractive(key) {\n",
              "        const element = document.querySelector('#df-457df373-c309-475d-a2fe-e043e9d8ee25');\n",
              "        const dataTable =\n",
              "          await google.colab.kernel.invokeFunction('convertToInteractive',\n",
              "                                                    [key], {});\n",
              "        if (!dataTable) return;\n",
              "\n",
              "        const docLinkHtml = 'Like what you see? Visit the ' +\n",
              "          '<a target=\"_blank\" href=https://colab.research.google.com/notebooks/data_table.ipynb>data table notebook</a>'\n",
              "          + ' to learn more about interactive tables.';\n",
              "        element.innerHTML = '';\n",
              "        dataTable['output_type'] = 'display_data';\n",
              "        await google.colab.output.renderOutput(dataTable, element);\n",
              "        const docLink = document.createElement('div');\n",
              "        docLink.innerHTML = docLinkHtml;\n",
              "        element.appendChild(docLink);\n",
              "      }\n",
              "    </script>\n",
              "  </div>\n",
              "\n",
              "\n",
              "    <div id=\"df-5d8d087a-e274-4fce-80ac-f03de54c76a8\">\n",
              "      <button class=\"colab-df-quickchart\" onclick=\"quickchart('df-5d8d087a-e274-4fce-80ac-f03de54c76a8')\"\n",
              "                title=\"Suggest charts\"\n",
              "                style=\"display:none;\">\n",
              "\n",
              "<svg xmlns=\"http://www.w3.org/2000/svg\" height=\"24px\"viewBox=\"0 0 24 24\"\n",
              "     width=\"24px\">\n",
              "    <g>\n",
              "        <path d=\"M19 3H5c-1.1 0-2 .9-2 2v14c0 1.1.9 2 2 2h14c1.1 0 2-.9 2-2V5c0-1.1-.9-2-2-2zM9 17H7v-7h2v7zm4 0h-2V7h2v10zm4 0h-2v-4h2v4z\"/>\n",
              "    </g>\n",
              "</svg>\n",
              "      </button>\n",
              "\n",
              "<style>\n",
              "  .colab-df-quickchart {\n",
              "      --bg-color: #E8F0FE;\n",
              "      --fill-color: #1967D2;\n",
              "      --hover-bg-color: #E2EBFA;\n",
              "      --hover-fill-color: #174EA6;\n",
              "      --disabled-fill-color: #AAA;\n",
              "      --disabled-bg-color: #DDD;\n",
              "  }\n",
              "\n",
              "  [theme=dark] .colab-df-quickchart {\n",
              "      --bg-color: #3B4455;\n",
              "      --fill-color: #D2E3FC;\n",
              "      --hover-bg-color: #434B5C;\n",
              "      --hover-fill-color: #FFFFFF;\n",
              "      --disabled-bg-color: #3B4455;\n",
              "      --disabled-fill-color: #666;\n",
              "  }\n",
              "\n",
              "  .colab-df-quickchart {\n",
              "    background-color: var(--bg-color);\n",
              "    border: none;\n",
              "    border-radius: 50%;\n",
              "    cursor: pointer;\n",
              "    display: none;\n",
              "    fill: var(--fill-color);\n",
              "    height: 32px;\n",
              "    padding: 0;\n",
              "    width: 32px;\n",
              "  }\n",
              "\n",
              "  .colab-df-quickchart:hover {\n",
              "    background-color: var(--hover-bg-color);\n",
              "    box-shadow: 0 1px 2px rgba(60, 64, 67, 0.3), 0 1px 3px 1px rgba(60, 64, 67, 0.15);\n",
              "    fill: var(--button-hover-fill-color);\n",
              "  }\n",
              "\n",
              "  .colab-df-quickchart-complete:disabled,\n",
              "  .colab-df-quickchart-complete:disabled:hover {\n",
              "    background-color: var(--disabled-bg-color);\n",
              "    fill: var(--disabled-fill-color);\n",
              "    box-shadow: none;\n",
              "  }\n",
              "\n",
              "  .colab-df-spinner {\n",
              "    border: 2px solid var(--fill-color);\n",
              "    border-color: transparent;\n",
              "    border-bottom-color: var(--fill-color);\n",
              "    animation:\n",
              "      spin 1s steps(1) infinite;\n",
              "  }\n",
              "\n",
              "  @keyframes spin {\n",
              "    0% {\n",
              "      border-color: transparent;\n",
              "      border-bottom-color: var(--fill-color);\n",
              "      border-left-color: var(--fill-color);\n",
              "    }\n",
              "    20% {\n",
              "      border-color: transparent;\n",
              "      border-left-color: var(--fill-color);\n",
              "      border-top-color: var(--fill-color);\n",
              "    }\n",
              "    30% {\n",
              "      border-color: transparent;\n",
              "      border-left-color: var(--fill-color);\n",
              "      border-top-color: var(--fill-color);\n",
              "      border-right-color: var(--fill-color);\n",
              "    }\n",
              "    40% {\n",
              "      border-color: transparent;\n",
              "      border-right-color: var(--fill-color);\n",
              "      border-top-color: var(--fill-color);\n",
              "    }\n",
              "    60% {\n",
              "      border-color: transparent;\n",
              "      border-right-color: var(--fill-color);\n",
              "    }\n",
              "    80% {\n",
              "      border-color: transparent;\n",
              "      border-right-color: var(--fill-color);\n",
              "      border-bottom-color: var(--fill-color);\n",
              "    }\n",
              "    90% {\n",
              "      border-color: transparent;\n",
              "      border-bottom-color: var(--fill-color);\n",
              "    }\n",
              "  }\n",
              "</style>\n",
              "\n",
              "      <script>\n",
              "        async function quickchart(key) {\n",
              "          const quickchartButtonEl =\n",
              "            document.querySelector('#' + key + ' button');\n",
              "          quickchartButtonEl.disabled = true;  // To prevent multiple clicks.\n",
              "          quickchartButtonEl.classList.add('colab-df-spinner');\n",
              "          try {\n",
              "            const charts = await google.colab.kernel.invokeFunction(\n",
              "                'suggestCharts', [key], {});\n",
              "          } catch (error) {\n",
              "            console.error('Error during call to suggestCharts:', error);\n",
              "          }\n",
              "          quickchartButtonEl.classList.remove('colab-df-spinner');\n",
              "          quickchartButtonEl.classList.add('colab-df-quickchart-complete');\n",
              "        }\n",
              "        (() => {\n",
              "          let quickchartButtonEl =\n",
              "            document.querySelector('#df-5d8d087a-e274-4fce-80ac-f03de54c76a8 button');\n",
              "          quickchartButtonEl.style.display =\n",
              "            google.colab.kernel.accessAllowed ? 'block' : 'none';\n",
              "        })();\n",
              "      </script>\n",
              "    </div>\n",
              "\n",
              "  <div id=\"id_f26f7304-c6d5-4645-8311-089a30aec4d3\">\n",
              "    <style>\n",
              "      .colab-df-generate {\n",
              "        background-color: #E8F0FE;\n",
              "        border: none;\n",
              "        border-radius: 50%;\n",
              "        cursor: pointer;\n",
              "        display: none;\n",
              "        fill: #1967D2;\n",
              "        height: 32px;\n",
              "        padding: 0 0 0 0;\n",
              "        width: 32px;\n",
              "      }\n",
              "\n",
              "      .colab-df-generate:hover {\n",
              "        background-color: #E2EBFA;\n",
              "        box-shadow: 0px 1px 2px rgba(60, 64, 67, 0.3), 0px 1px 3px 1px rgba(60, 64, 67, 0.15);\n",
              "        fill: #174EA6;\n",
              "      }\n",
              "\n",
              "      [theme=dark] .colab-df-generate {\n",
              "        background-color: #3B4455;\n",
              "        fill: #D2E3FC;\n",
              "      }\n",
              "\n",
              "      [theme=dark] .colab-df-generate:hover {\n",
              "        background-color: #434B5C;\n",
              "        box-shadow: 0px 1px 3px 1px rgba(0, 0, 0, 0.15);\n",
              "        filter: drop-shadow(0px 1px 2px rgba(0, 0, 0, 0.3));\n",
              "        fill: #FFFFFF;\n",
              "      }\n",
              "    </style>\n",
              "    <button class=\"colab-df-generate\" onclick=\"generateWithVariable('cv_results')\"\n",
              "            title=\"Generate code using this dataframe.\"\n",
              "            style=\"display:none;\">\n",
              "\n",
              "  <svg xmlns=\"http://www.w3.org/2000/svg\" height=\"24px\"viewBox=\"0 0 24 24\"\n",
              "       width=\"24px\">\n",
              "    <path d=\"M7,19H8.4L18.45,9,17,7.55,7,17.6ZM5,21V16.75L18.45,3.32a2,2,0,0,1,2.83,0l1.4,1.43a1.91,1.91,0,0,1,.58,1.4,1.91,1.91,0,0,1-.58,1.4L9.25,21ZM18.45,9,17,7.55Zm-12,3A5.31,5.31,0,0,0,4.9,8.1,5.31,5.31,0,0,0,1,6.5,5.31,5.31,0,0,0,4.9,4.9,5.31,5.31,0,0,0,6.5,1,5.31,5.31,0,0,0,8.1,4.9,5.31,5.31,0,0,0,12,6.5,5.46,5.46,0,0,0,6.5,12Z\"/>\n",
              "  </svg>\n",
              "    </button>\n",
              "    <script>\n",
              "      (() => {\n",
              "      const buttonEl =\n",
              "        document.querySelector('#id_f26f7304-c6d5-4645-8311-089a30aec4d3 button.colab-df-generate');\n",
              "      buttonEl.style.display =\n",
              "        google.colab.kernel.accessAllowed ? 'block' : 'none';\n",
              "\n",
              "      buttonEl.onclick = () => {\n",
              "        google.colab.notebook.generateWithVariable('cv_results');\n",
              "      }\n",
              "      })();\n",
              "    </script>\n",
              "  </div>\n",
              "\n",
              "    </div>\n",
              "  </div>\n"
            ],
            "application/vnd.google.colaboratory.intrinsic+json": {
              "type": "dataframe",
              "variable_name": "cv_results",
              "summary": "{\n  \"name\": \"cv_results\",\n  \"rows\": 2,\n  \"fields\": [\n    {\n      \"column\": \"Model\",\n      \"properties\": {\n        \"dtype\": \"string\",\n        \"num_unique_values\": 2,\n        \"samples\": [\n          \"Extended\",\n          \"Baseline\"\n        ],\n        \"semantic_type\": \"\",\n        \"description\": \"\"\n      }\n    },\n    {\n      \"column\": \"CV_MAE\",\n      \"properties\": {\n        \"dtype\": \"number\",\n        \"std\": null,\n        \"min\": null,\n        \"max\": null,\n        \"num_unique_values\": 0,\n        \"samples\": [],\n        \"semantic_type\": \"\",\n        \"description\": \"\"\n      }\n    },\n    {\n      \"column\": \"Adj_R2\",\n      \"properties\": {\n        \"dtype\": \"number\",\n        \"std\": null,\n        \"min\": null,\n        \"max\": null,\n        \"num_unique_values\": 0,\n        \"samples\": [],\n        \"semantic_type\": \"\",\n        \"description\": \"\"\n      }\n    },\n    {\n      \"column\": \"AIC\",\n      \"properties\": {\n        \"dtype\": \"number\",\n        \"std\": null,\n        \"min\": null,\n        \"max\": null,\n        \"num_unique_values\": 0,\n        \"samples\": [],\n        \"semantic_type\": \"\",\n        \"description\": \"\"\n      }\n    },\n    {\n      \"column\": \"BIC\",\n      \"properties\": {\n        \"dtype\": \"number\",\n        \"std\": null,\n        \"min\": null,\n        \"max\": null,\n        \"num_unique_values\": 0,\n        \"samples\": [],\n        \"semantic_type\": \"\",\n        \"description\": \"\"\n      }\n    }\n  ]\n}"
            }
          },
          "metadata": {},
          "execution_count": 61
        }
      ]
    },
    {
      "cell_type": "markdown",
      "source": [
        "This block defines a helper to cross-validate models and then builds a comparison table.\n",
        "\n",
        "cv_mae(formula, data, k=5): parses the Patsy formula, checks required columns exist, builds y, X with dmatrices, drops the intercept (since LinearRegression adds one), and returns 5-fold CV Mean Absolute Error using shuffled KFold(random_state=42).\n",
        "\n",
        "It then creates cv_results, a DataFrame comparing Baseline vs Extended models on:\n",
        "\n",
        "CV_MAE (out-of-sample error from cv_mae)\n",
        "\n",
        "Adj_R2, AIC, BIC (in-sample stats pulled from m_base/m_ext if they were successfully fit; otherwise NaN).\n",
        "\n",
        "Built-in safeguards skip CV or metrics if required columns/models are missing, preventing crashes."
      ],
      "metadata": {
        "id": "hYu6cTCFPtet"
      }
    },
    {
      "cell_type": "markdown",
      "source": [
        "#Interpretation\n",
        "\n",
        "Overall, the results confirm that **socioeconomic conditions play a dominant role** in predicting academic outcomes like ACT scores.  \n",
        "However, school-level characteristics ,particularly the availability of teachers and class size , also make a measurable difference.  \n",
        "\n"
      ],
      "metadata": {
        "id": "hIeMMqmWdghc"
      }
    },
    {
      "cell_type": "markdown",
      "source": [
        "#Limitations\n",
        "\n",
        "- The analysis uses cross-sectional data (2016), so it identifies correlations but not causation.  \n",
        "- Some variables were aggregated at the district level, which may mask within-district variation.  \n",
        "- Missing or incomplete data (e.g., for smaller schools) could bias certain estimates.  \n",
        "- The model does not account for all possible factors influencing ACT scores, such as curriculum quality, teacher experience, or student motivation."
      ],
      "metadata": {
        "id": "7tbBmSnad08h"
      }
    },
    {
      "cell_type": "markdown",
      "source": [
        "#Conclusions\n",
        "\n",
        "- Socioeconomic factors such as income, unemployment, and educational attainment strongly predict school performance.  \n",
        "- Class size (student–teacher ratio) and charter status add predictive power, showing that school-level differences matter.  \n",
        "- Reducing class sizes and providing equitable funding for schools in low-income districts may help narrow achievement gaps."
      ],
      "metadata": {
        "id": "GrkkUiUCd_5T"
      }
    },
    {
      "cell_type": "markdown",
      "source": [
        "#Summary\n",
        "Higher income and education levels, lower economic disadvantage, and smaller class sizes are all associated with higher ACT scores.  \n",
        "Addressing both socioeconomic disparities and school-level resources offers the best path toward equitable academic achievement."
      ],
      "metadata": {
        "id": "uBpcBH8yeOqX"
      }
    }
  ]
}